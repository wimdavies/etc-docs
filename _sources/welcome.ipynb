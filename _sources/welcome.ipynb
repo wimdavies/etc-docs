{
 "cells": [
  {
   "cell_type": "markdown",
   "metadata": {},
   "source": [
    "# Welcome\n",
    "\n",
    "The V&A Collections API provides access to the collections data and images held by the [Victoria and Albert Museum](https://www.vam.ac.uk/) in machine readable formats (currently JSON and CSV) aiding research into art & design history, provenance studies and supporting general data science exploration and visualisation.\n",
    "\n",
    "Our first API was released in 2009, this second version released in 2021 follows its pioneering predecessor in many ways, but provides some new functionality allowing for ease of use with data science utilities such as [Pandas](https://pandas.pydata.org/), [Altair](https://altair-viz.github.io/), [Vega](https://vega.github.io/vega/); new endpoints to query for clustering results together for 'generous' data overviews; different response types allowing for a quick start in exploring the data, and countable other features large and small documented through this guide.\n",
    "\n",
    "Cultural heritage data can be complex to explore, every aspect of an objects' history can be a world in itself to discover, which can make it hard to find a starting point when first looking into the data (with or without an objective in mind). While this guide provides an overview of using the API, you may find some worked examples helpful, so we have provided some [Data Explorations](https://developers.vam.ac.uk/notebooks/data-explorations/) on topics such as water lilies, machines in the C18th and the ladies of Edinburgh (from 1865 to 1880 only). "
   ]
  },
  {
   "cell_type": "markdown",
   "metadata": {},
   "source": [
    "## Overview\n",
    "\n",
    "This API guide details each endpoint in the API (an endpoint being a type of operation that can be carried out) and the parameters available for each endpoint (a parameter controls what the operation does). For the most common usage (retrieve an object record, query all object records, etc) we provide a {ref}`quick-start:top` guide which gives some code examples in Python that can be re-used (or re-implemented in a language of your choice) in your own project, the following sections provide exhaustive details on the available endpoints and parameters:\n",
    "\n",
    "  * {ref}`searching:top` - All the different parameters for controlling different types and methods of searching object records\n",
    "  * {ref}`filtering:top` - All the different parameters for controlling different types and methods of filtering object records\n",
    "  * {ref}`restriction:top` - Parameters controlling whether records are included or excluded from searching or filtering\n",
    "  * {ref}`results:top` - Formats of results that can be returned from different queries\n",
    "  * {ref}`images:top` - How to retrieve object images using IIIF APIs\n",
    "  * {ref}`datavis:top` - How to visualise the data returned from the API"
   ]
  },
  {
   "cell_type": "markdown",
   "metadata": {},
   "source": [
    "## Datasets\n",
    "\n",
    "Although the API provides an effective way to dynamically retrieve subsets of collections data, for bulk export it is less efficient than data compressed and transferred as a single file. If you have a project where you want to examine large sets of object records, please log an issue detailing your project in our [GitHub repository](https://github.com/vanda/etc-docs/issues) and we will get in touch if we can help out."
   ]
  },
  {
   "cell_type": "markdown",
   "metadata": {},
   "source": [
    "## Citation\n",
    "\n",
    "If you want to refer to our collections data and/or are using our API in an academic publication, you can cite us as follows (in BibTex):\n",
    "    \n",
    "### Collections Data\n",
    "```\n",
    "@misc{vam-2021-collections-data,\n",
    "  author = {Victoria and Albert Museum},\n",
    "  title = {Victoria and Albert Museum Collections Data},\n",
    "  year = {2021},\n",
    "  note = {data retrieved via Victoria and Albert Museum Collections API, \\url{https://developers.vam.ac.uk/}},\n",
    "  url = {https://collections.vam.ac.uk/}\n",
    "}\n",
    "```\n",
    "### Collections API\n",
    "```\n",
    "@software{vam-2021-collections-api,\n",
    "    author       = {Victoria and Albert Museum},\n",
    "    title        = {Victoria and Albert Museum Collections API v2},\n",
    "    year         = 2021,\n",
    "    version      = {2},\n",
    "    url          = {https://developers.vam.ac.uk/},\n",
    "}\n",
    "```"
   ]
  },
  {
   "cell_type": "markdown",
   "metadata": {},
   "source": [
    "## Licencing\n",
    "\n",
    "Our collections data and images are made available under the [terms of use](https://www.vam.ac.uk/info/va-websites-terms-conditions) for the V&A website, in particular section 9.3."
   ]
  },
  {
   "cell_type": "markdown",
   "metadata": {},
   "source": [
    "## Related Resources\n",
    "\n",
    "There are many other excellent introductions and explorations of cultural heritage data using APIs, Jupyter Notebooks and other data processing techniques. Some we have found useful :\n",
    "\n",
    " * [Programming Historian](https://programminghistorian.org/)\n",
    " * [Tim Sherratt's GLAMWork Bench](https://glam-workbench.github.io/)\n",
    " * [National Library of Scotland Data Foundry](https://data.nls.uk/)\n",
    " * [Rijks Data](https://data.rijksmuseum.nl/)\n",
    " * [British Library Labs](https://data.bl.uk)\n",
    " * [Library of Congress Data Exploration](https://github.com/LibraryOfCongress/data-exploration)\n",
    " * [Smithsonian](https://www.si.edu/openaccess)\n",
    " * [Art Institute of Chicago](https://api.artic.edu/docs/)\n",
    " \n",
    "There are many other cultural heritage collections APIs to explore, the definitive list remains with [Mia Ridge](http://museum-api.pbworks.com/w/page/21933420/Museum%C2%A0APIs)"
   ]
  },
  {
   "cell_type": "markdown",
   "metadata": {},
   "source": [
    "## Future Development\n",
    "\n",
    "The V&A participates in the [Linked Art](https://linked.art/) project looking at creating a shared data model to enable the interoperability of cultural heritage data between institutions, which would make some of the example [data explorations](https://developers.vam.ac.uk/notebooks/data-explorations/) much easier to write. We hope to offer a JSON-LD API in the future to assist in querying across national and international cultural heritage collections."
   ]
  },
  {
   "cell_type": "markdown",
   "metadata": {},
   "source": [
    "## Contact Us\n",
    "\n",
    "If you have spotted any egregious typos or coding errors or see anyone suggestion that searching is better than filtering, or would like to let us know about an application you have written using our data or images, please send us a [pull request](https://github.com/etc-docs/pulls) or log an issue on our [GitHub repository](https://github.com/vanda/etc-docs/issues)."
   ]
  },
  {
   "cell_type": "markdown",
   "metadata": {},
   "source": [
    "## Changelog\n",
    "\n",
    "### 15 Apr 2021\n",
    "\n",
    "API v2 launched\n",
    "\n",
    "### 2009\n",
    "\n",
    "API v1 launched. "
   ]
  },
  {
   "cell_type": "code",
   "execution_count": null,
   "metadata": {},
   "outputs": [],
   "source": []
  }
 ],
 "metadata": {
  "kernelspec": {
   "display_name": "Python 3",
   "language": "python",
   "name": "python3"
  },
  "language_info": {
   "codemirror_mode": {
    "name": "ipython",
    "version": 3
   },
   "file_extension": ".py",
   "mimetype": "text/x-python",
   "name": "python",
   "nbconvert_exporter": "python",
   "pygments_lexer": "ipython3",
   "version": "3.8.5"
  }
 },
 "nbformat": 4,
 "nbformat_minor": 4
}
