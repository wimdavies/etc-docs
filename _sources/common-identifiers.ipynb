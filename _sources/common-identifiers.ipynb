{
 "cells": [
  {
   "cell_type": "markdown",
   "metadata": {},
   "source": [
    "(identifiers:top)=\n",
    "\n",
    "# Identifiers\n",
    "\n",
    "Identifiers are used in {ref}`filtering:top` to restrict results to those that exactly match the identifier passed. Many of these identifiers come from standard vocabularies such as [Getty](https://www.getty.edu/research/tools/vocabularies/) aiding re-use of queries across different cultural heritage collections.\n",
    "\n",
    "```{note}\n",
    "We refer to Getty identifiers in a shorthand format, removing the leading 3 and any zeroes following it and prepending it with AAT. For example:\n",
    "  Plastic -> 3000134570 - >  AAT134570\n",
    "\n",
    "You can also use the form as given by Getty.\n",
    "```\n",
    "  \n",
    "All other identifiers are local to the V&A and have the following prefixes:\n",
    " \n",
    "  * THES - All controlled vocabularies\n",
    "  * x - All controlled vocabularies\n",
    "  * N/AUTH/C/A/U - Person/People/Organisation only\n",
    "\n",
    "Below are some common identifiers to aid in starting filtering results."
   ]
  },
  {
   "cell_type": "markdown",
   "metadata": {},
   "source": [
    "## Materials\n",
    "\n",
    "  * Wood - [AAT11914](https://vocab.getty.edu/page/aat/300011914)\n",
    "  * Marble - [AAT11443](https://vocab.getty.edu/page/aat/300011443)\n",
    "  * Glass - [AAT10797](https://vocab.getty.edu/page/aat/300010797)\n",
    "  * Paper - [AAT14109](https://vocab.getty.edu/page/aat/300014109)\n",
    "  * Gold - [AAT11021](https://vocab.getty.edu/page/aat/300011021)\n",
    "  * Silver - [AAT11029](https://vocab.getty.edu/page/aat/300011029)\n",
    "  * Bronze - [AAT10957](https://vocab.getty.edu/page/aat/300010957)\n",
    "  * Plastic - [AAT14570](https://vocab.getty.edu/page/aat/300014570)"
   ]
  },
  {
   "cell_type": "markdown",
   "metadata": {},
   "source": [
    "## Techniques\n",
    "\n",
    "  * AAT54225 - [Photography](http://www.getty.edu/vow/AATFullDisplay?find=etching&logic=AND&note=&english=N&prev_page=1&subjectid=300054225)\n",
    "  * AAT53271 - [Lithography](http://www.getty.edu/vow/AATFullDisplay?find=etching&logic=AND&note=&english=N&prev_page=1&subjectid=300053271)\n",
    " "
   ]
  },
  {
   "cell_type": "markdown",
   "metadata": {},
   "source": [
    "## Places\n",
    "\n",
    "  * St Ives - x29411\n",
    "  * Paris - x29068\n",
    "  * Sydney - x37347\n",
    "  * Rome - x29106\n",
    "  * Cape Town - x38584\n",
    "  * London -x28980\n",
    "  * Tokyo - x32204\n",
    "  * New York - x29030\n",
    "  * Lima - THES270687\n",
    "  * Amsterdam - x28722\n",
    "  * Moscow - x32457"
   ]
  },
  {
   "cell_type": "markdown",
   "metadata": {},
   "source": [
    "## People"
   ]
  },
  {
   "cell_type": "markdown",
   "metadata": {},
   "source": [
    "\n",
    " * Queen Victoria\n",
    " * Prince Albert\n",
    " * William Morris\n",
    " * Julia Margeret Cameron\n",
    " * William De Morgan\n",
    " * "
   ]
  }
 ],
 "metadata": {
  "kernelspec": {
   "display_name": "Python 3",
   "language": "python",
   "name": "python3"
  },
  "language_info": {
   "codemirror_mode": {
    "name": "ipython",
    "version": 3
   },
   "file_extension": ".py",
   "mimetype": "text/x-python",
   "name": "python",
   "nbconvert_exporter": "python",
   "pygments_lexer": "ipython3",
   "version": "3.8.5"
  }
 },
 "nbformat": 4,
 "nbformat_minor": 4
}
