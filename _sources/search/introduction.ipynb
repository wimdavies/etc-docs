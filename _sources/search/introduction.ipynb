{
 "cells": [
  {
   "cell_type": "markdown",
   "metadata": {},
   "source": [
    "(searching:top)=\n",
    "\n",
    "# Searching"
   ]
  },
  {
   "cell_type": "markdown",
   "metadata": {},
   "source": [
    "## Searching all fields\n",
    "\n",
    "The broadest search you can carry out is for the occurance of a word/phrase (or the absence of one) anywhere in an object record. This is a good starting point in finding an object record matching your search, as it will recall *all* object records containing (or not containing) that word/phrase. However, the relevancy to your interests of the object records returned could be fairly poor, as you may be finding the same word used across multiple meanings, for example searching for China will bring back both objects from that country, objects made using the material, addresses mentioning China, people and organisations with China in their name, and so on. If you already know that you are only looking for objects relating to China the country or the material, you can use a more targeted search parameter ('q_place_name' or 'q_material'), or even better use a filter ('id_place' or 'id_material') (see {ref}`filtering:top`)."
   ]
  },
  {
   "cell_type": "markdown",
   "metadata": {},
   "source": [
    "### Example: Search all records"
   ]
  },
  {
   "cell_type": "code",
   "execution_count": 1,
   "metadata": {},
   "outputs": [
    {
     "name": "stdout",
     "output_type": "stream",
     "text": [
      "There are 24530 objects that have the word china somewhere in the record\n"
     ]
    }
   ],
   "source": [
    "import requests\n",
    "req = requests.get('https://api.vam.ac.uk/v2/objects/search?q=\"china\"')\n",
    "object_data = req.json()\n",
    "object_info = object_data[\"info\"]\n",
    "object_records = object_data[\"records\"]\n",
    "record_count = object_info[\"record_count\"]\n",
    "print(f\"There are {record_count} objects that have the word 'china' somewhere in the record\")"
   ]
  },
  {
   "cell_type": "markdown",
   "metadata": {},
   "source": [
    "As opposed to this general search query, the following methods of searching will only search within a subset of fields in the object record."
   ]
  },
  {
   "cell_type": "markdown",
   "metadata": {},
   "source": [
    "## Searching by object name (object title and/or object type)\n",
    "\n",
    "You might expect that every object has a title, but, outside of unique objects (often but not always paintings, sculpture, etc), this is not always the case. To assist in returning relevant results, this parameter lets you specify a search across both the object title and the object type (Vase, Etching, etc). \n",
    "\n",
    "```{note}\n",
    "If you do just want to search for a title, or alternatively if you just want to search for a type of object, there are also API parameters to let you do just that, covered below.\n",
    "```"
   ]
  },
  {
   "cell_type": "code",
   "execution_count": 1,
   "metadata": {},
   "outputs": [
    {
     "name": "stdout",
     "output_type": "stream",
     "text": [
      "There are 11525 objects that have the word book in the titles assigned to it or the type of object\n",
      "The tenth object is called 'The book of household management' and has the type of Book\n"
     ]
    }
   ],
   "source": [
    "import requests\n",
    "req = requests.get('https://api.vam.ac.uk/v2/objects/search?q_object_name=\"book\"')\n",
    "object_data = req.json()\n",
    "object_info = object_data[\"info\"]\n",
    "object_records = object_data[\"records\"]\n",
    "record_count = object_info[\"record_count\"]\n",
    "print(f\"There are {record_count} objects that have the word book in the titles assigned to it or the type of object\")\n",
    "print(\"The tenth object is called '%s' and has the type of %s\" % (object_records[10][\"_primaryTitle\"], object_records[10][\"objectType\"]))     "
   ]
  },
  {
   "cell_type": "markdown",
   "metadata": {},
   "source": [
    "### Searching by object title only\n",
    "\n",
    "This searches amongst objects that have a title and whose title matches the query string."
   ]
  },
  {
   "cell_type": "code",
   "execution_count": 2,
   "metadata": {},
   "outputs": [
    {
     "name": "stdout",
     "output_type": "stream",
     "text": [
      "There are 4773 objects that have the word 'book' in the titles assigned to it\n",
      "The fifth object is called 'Year Book and Table Book' and has the type of Japanese paper\n"
     ]
    }
   ],
   "source": [
    "import requests\n",
    "req = requests.get('https://api.vam.ac.uk/v2/objects/search?q_object_title=\"book\"')\n",
    "object_data = req.json()\n",
    "object_info = object_data[\"info\"]\n",
    "object_records = object_data[\"records\"]\n",
    "record_count = object_info[\"record_count\"]\n",
    "print(f\"There are {record_count} objects that have the word 'book' in the titles assigned to it\")\n",
    "print(\"The fifth object is called '%s' and has the type of %s\" % (object_records[10][\"_primaryTitle\"], object_records[5][\"objectType\"]))"
   ]
  },
  {
   "cell_type": "markdown",
   "metadata": {},
   "source": [
    "### Searching by object type only\n",
    "\n",
    "This searches amongst objects that have an object type matching the query string\n",
    "\n",
    "```{note}\n",
    "It should be noted here that there is an alternative parameter that can be used for object type searches: 'kw_object_type', which will only match on *exactly* what you have written. However, you might want to try and find all the variations (spelling, capitlisation, singlular/plural, etc) on the way the object type can be written, so using this parameter *may* be better for that purpose.\n",
    "\n",
    "In addition, it's useful to remember that objects can have parts, which is most commonly used to describe objects with discrete components, for example a cutlery set has parts for each item of cutlery within it. If you want to search for all the spoons in the collection you would ideally like to combine results from searching at the object level (for individual spoons) and searching at the part level (for spoons within a cutlery set). Sadly, part level searching is not available in the current API\n",
    "```"
   ]
  },
  {
   "cell_type": "code",
   "execution_count": 3,
   "metadata": {},
   "outputs": [
    {
     "name": "stdout",
     "output_type": "stream",
     "text": [
      "There are 6933 object records that have the word 'book' in the object type\n",
      "The fifth object is called '' and has the type of 'Book'\n"
     ]
    }
   ],
   "source": [
    "import requests\n",
    "req = requests.get('https://api.vam.ac.uk/v2/objects/search?q_object_type=\"book\"')\n",
    "object_data = req.json()\n",
    "object_info = object_data[\"info\"]\n",
    "object_records = object_data[\"records\"]\n",
    "record_count = object_info[\"record_count\"]\n",
    "print(f\"There are {record_count} object records that have the word 'book' in the object type\")\n",
    "print(\"The fifth object is called '%s' and has the type of '%s'\" % (object_records[10][\"_primaryTitle\"], object_records[5][\"objectType\"]))"
   ]
  },
  {
   "cell_type": "markdown",
   "metadata": {},
   "source": [
    "## Searching by place\n",
    "\n",
    "This is a way to search for a place connected to objects. Instead of an exact identifier match (as with {ref}`filter:place`), this will search the place names as a string, so for example, if you search for London you will match on both \"Greater London\" and \"City of London\", but also 'London, Ontario' which may or may not be what you want. If you want an exact match to only a specific place, you are better to use place filtering."
   ]
  },
  {
   "cell_type": "code",
   "execution_count": 3,
   "metadata": {},
   "outputs": [
    {
     "name": "stdout",
     "output_type": "stream",
     "text": [
      "There are 24530 objects that are connected to a place containing the word 'London'\n"
     ]
    }
   ],
   "source": [
    "import requests\n",
    "req = requests.get('https://api.vam.ac.uk/v2/objects/search?q_place_name=London')\n",
    "object_data = req.json()\n",
    "object_info = object_data[\"info\"]\n",
    "object_records = object_data[\"records\"]\n",
    "record_count = object_info[\"record_count\"]\n",
    "print(f\"There are {record_count} objects that are connected to a place containing the word 'London'\")"
   ]
  },
  {
   "cell_type": "markdown",
   "metadata": {},
   "source": [
    "For comparison, place filtering on London (x28980) returns:"
   ]
  },
  {
   "cell_type": "code",
   "execution_count": 4,
   "metadata": {},
   "outputs": [
    {
     "name": "stdout",
     "output_type": "stream",
     "text": [
      "There are 85951 objects that are connected to the place London, England (x28980)\n"
     ]
    }
   ],
   "source": [
    "import requests\n",
    "req = requests.get('https://api.vam.ac.uk/v2/objects/search?id_place=x28980')\n",
    "object_data = req.json()\n",
    "object_info = object_data[\"info\"]\n",
    "object_records = object_data[\"records\"]\n",
    "record_count = object_info[\"record_count\"]\n",
    "print(f\"There are {record_count} objects that are connected to the place London, England (x28980)\")"
   ]
  },
  {
   "cell_type": "markdown",
   "metadata": {},
   "source": [
    "## Searching by material or technique"
   ]
  },
  {
   "cell_type": "markdown",
   "metadata": {},
   "source": [
    "Similiarly to place, this lets you search for use of a material or technique in the objects production, so searching for 'Silver' will find both 'Silver engraving' and 'silver gelatin photography'. As with place, there are equivalent filter parameters ('id_material' and 'id_technique') that would offer more precise results, see {ref}`filter:material`."
   ]
  },
  {
   "cell_type": "code",
   "execution_count": 4,
   "metadata": {},
   "outputs": [
    {
     "name": "stdout",
     "output_type": "stream",
     "text": [
      "There are 25698 objects that use a material or technique containing the word 'Silver'\n"
     ]
    }
   ],
   "source": [
    "import requests\n",
    "req = requests.get('https://api.vam.ac.uk/v2/objects/search?q_material_technique=Silver')\n",
    "object_data = req.json()\n",
    "object_info = object_data[\"info\"]\n",
    "object_records = object_data[\"records\"]\n",
    "record_count = object_info[\"record_count\"]\n",
    "print(f\"There are {record_count} objects that use a material or technique containing the word 'Silver'\")"
   ]
  },
  {
   "cell_type": "markdown",
   "metadata": {},
   "source": [
    "## Searching by person, people or organisation"
   ]
  },
  {
   "cell_type": "markdown",
   "metadata": {},
   "source": [
    "Following the same pattern as above, this lets you search for a person or organisation involved, depicted or associated with an object. As you might have guessed by now, there are much better filtering parameters that let you perform the same query but better, see {ref} `filter:person`."
   ]
  },
  {
   "cell_type": "code",
   "execution_count": 14,
   "metadata": {},
   "outputs": [
    {
     "name": "stdout",
     "output_type": "stream",
     "text": [
      "There are 35023 objects that connected with a person, people or organisation containing the words 'william' and 'morris'\n"
     ]
    }
   ],
   "source": [
    "import requests\n",
    "req = requests.get('https://api.vam.ac.uk/v2/objects/search?q_actor=william morris')\n",
    "object_data = req.json()\n",
    "object_info = object_data[\"info\"]\n",
    "object_records = object_data[\"records\"]\n",
    "record_count = object_info[\"record_count\"]\n",
    "print(f\"There are {record_count} objects that connected with a person, people or organisation containing the words 'william' and 'morris'\")"
   ]
  },
  {
   "cell_type": "markdown",
   "metadata": {},
   "source": [
    "```{note}\n",
    "Any suggestion the author of this guide is completely biased towards the use of Filtering over Searching and recommends its use in almost all situations is completely correct.\n",
    "```"
   ]
  }
 ],
 "metadata": {
  "kernelspec": {
   "display_name": "Python 3",
   "language": "python",
   "name": "python3"
  },
  "language_info": {
   "codemirror_mode": {
    "name": "ipython",
    "version": 3
   },
   "file_extension": ".py",
   "mimetype": "text/x-python",
   "name": "python",
   "nbconvert_exporter": "python",
   "pygments_lexer": "ipython3",
   "version": "3.8.5"
  }
 },
 "nbformat": 4,
 "nbformat_minor": 4
}
