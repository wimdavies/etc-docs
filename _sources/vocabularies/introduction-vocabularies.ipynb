{
 "cells": [
  {
   "cell_type": "markdown",
   "metadata": {},
   "source": [
    "# Vocabularies\n",
    "\n",
    "Vocabularies provide a way to identify a concept (a person, a place, a type of material, etc) with a consistent identifier. This solves one of the most common issues with large collections of data, variations in how a concept is written. This can be for lots of differnet reasons:\n",
    " \n",
    "   * A person or place might have changed their name over time\n",
    "   * A material might have several different names with the same meaning\n",
    "   * A data entry error might have occured\n",
    "   \n",
    " If we only provide search then it would be hard, if not impossible, to know if you have found all these possible variations on how a concept could be written.\n",
    " \n",
    " Vocabularies and identifiers help with this problem by, \n",
    " \n",
    " ## Finding the right identifier\n",
    " \n",
    " So having said how wonderful identifiers & vocabularies are, you might be thinking how do I find the right identifier to use for some concept. This is a slightly tricky problem, and ultimately it comes back to using a general search, either through the authority records or through object records. This is something of a contradiction in that we have to use search to find filters, but the benefit is once we have the identifier we know it will remain valid, whereas if we were searching ... it could change.\n",
    " \n",
    " A future option could be to browse through authority\n",
    " \n",
    " # Filtering\n",
    " \n",
    " # "
   ]
  }
 ],
 "metadata": {
  "kernelspec": {
   "display_name": "Python 3",
   "language": "python",
   "name": "python3"
  },
  "language_info": {
   "codemirror_mode": {
    "name": "ipython",
    "version": 3
   },
   "file_extension": ".py",
   "mimetype": "text/x-python",
   "name": "python",
   "nbconvert_exporter": "python",
   "pygments_lexer": "ipython3",
   "version": "3.8.5"
  }
 },
 "nbformat": 4,
 "nbformat_minor": 4
}
