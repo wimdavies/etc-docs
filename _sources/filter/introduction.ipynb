{
 "cells": [
  {
   "cell_type": "markdown",
   "metadata": {},
   "source": [
    "(filtering:top)=\n",
    "# Filtering\n",
    "\n",
    "Filter parameters allow for precise matching on fields in object records, only returning the object records *exactly* matching the identifier(s) you specify on a single field (or a group of fields). These fields are vocabulary controlled, that is, instead of typing in the word you want to find (e.g. \"William Morris\"), we use an identifier instead, such as \"A8676\", or \"THES12345\") which helps avoid issues with variations in spelling. Whilst this way of finding records is always to be preferred, it does mean you need to know the right identifier to use."
   ]
  },
  {
   "cell_type": "markdown",
   "metadata": {},
   "source": [
    "## Filtering vs Constrained Search vs Full Search\n",
    "\n",
    "Let's compare the results from filtering, a general text search and a constrained (i.e. one field only) text search, all looking for the material 'Jet'"
   ]
  },
  {
   "cell_type": "markdown",
   "metadata": {},
   "source": [
    "### General text search"
   ]
  },
  {
   "cell_type": "code",
   "execution_count": 1,
   "metadata": {},
   "outputs": [
    {
     "name": "stdout",
     "output_type": "stream",
     "text": [
      "There are 543 objects that mention the term 'Jet' anywhere in the record\n"
     ]
    }
   ],
   "source": [
    "import requests\n",
    "req = requests.get('https://api.vam.ac.uk/v2/objects/search?q=Jet')\n",
    "object_data = req.json()\n",
    "object_info = object_data[\"info\"]\n",
    "object_records = object_data[\"records\"]\n",
    "record_count = object_info[\"record_count\"]\n",
    "print(f\"There are {record_count} objects that mention the term 'Jet' anywhere in the record\")"
   ]
  },
  {
   "cell_type": "markdown",
   "metadata": {},
   "source": [
    "### Constrained text search"
   ]
  },
  {
   "cell_type": "code",
   "execution_count": 2,
   "metadata": {},
   "outputs": [
    {
     "name": "stdout",
     "output_type": "stream",
     "text": [
      "There are 197 objects that mention the term 'Jet' within materials and techniques fields\n"
     ]
    }
   ],
   "source": [
    "import requests\n",
    "req = requests.get('https://api.vam.ac.uk/v2/objects/search?q_material_technique=Jet')\n",
    "object_data = req.json()\n",
    "object_info = object_data[\"info\"]\n",
    "object_records = object_data[\"records\"]\n",
    "record_count = object_info[\"record_count\"]\n",
    "print(f\"There are {record_count} objects that mention the term 'Jet' within materials and techniques fields\")"
   ]
  },
  {
   "cell_type": "markdown",
   "metadata": {},
   "source": [
    "### Filter"
   ]
  },
  {
   "cell_type": "code",
   "execution_count": 3,
   "metadata": {},
   "outputs": [
    {
     "name": "stdout",
     "output_type": "stream",
     "text": [
      "There are 51 objects that have been catalogued as using the material 'Jet' (AAT45514)\n"
     ]
    }
   ],
   "source": [
    "import requests\n",
    "req = requests.get('https://api.vam.ac.uk/v2/objects/search?id_material=AAT45514')\n",
    "object_data = req.json()\n",
    "object_info = object_data[\"info\"]\n",
    "object_records = object_data[\"records\"]\n",
    "record_count = object_info[\"record_count\"]\n",
    "print(f\"There are {record_count} objects that have been catalogued as using the material 'Jet' (AAT45514)\")"
   ]
  },
  {
   "cell_type": "markdown",
   "metadata": {},
   "source": [
    "As we can see from the results, there are many more records using the term 'Jet' anywhere within the record than are found by searching specifically on the field for material or technique or filtering on the relevant identifier.  This could be for a few different reasons:\n",
    "    \n",
    "  * Some of the matches on the general search for the term 'Jet' are using it with other meanings, such as Jet Engine, Design for Jet Jewellery. These might be irrelevant to your search for objects made of Jet (although perhaps the designs might also be of interest)\n",
    "  * Some objects which are made of Jet have object records that have not been extensively catalogued, but they do mention in another text field the object is made of Jet. These objects would be excluded from your search if only on the material and technique field, or if filtering on the identifer for Jet (AAT45514)\n",
    "  * Some objects could be made from a specific sub-type of Jet (if this exists). These would not be found by filtering on Jet (AAT45514), as the identifier used would not match. For this to work (which is a planned future enhancement to the API), we would need some form of hierarchical filtering to enable matching on a type (Jet) and all its sub-types.\n",
    "    \n",
    "So, in summary, while filtering on the identifier (the last query we ran) will provide the most precise results, it is more than likely to not recall *all* relevant results.  Keep this in mind when you use filtering, that although the number returned gives the appearance of an exact count (e.g. the V&A holds a certain number of objects made of Jet), you should also compare this result with the other searches (using 'q' and 'q_material_techniques'), to see if there are other objects not yet catalogued as extensively that would also match. As cataloguing is a never ending endeavour, these number are always likely to change over time."
   ]
  },
  {
   "cell_type": "markdown",
   "metadata": {},
   "source": [
    "## Common Filter Operations \n",
    "\n",
    "### Finding the identifer you need to use\n",
    "\n",
    "Certainly the most obvious question, how to find the right identifier to filter on. Beyond having memorised all the vocabularies there is no exact science to this. We have listed some common {ref}`identifiers:top` to get you started, but after that a good approach is to run a text search and from the returned relevant object records look for the identifiers you need. For example if you want to filter on objects made in Manchester, do a general text search (or a constrained search on 'q_place') on 'Manchester' and look through the returned object records for the place identifier for Manchester, then query again but this time filtering on that identifier (it's x28993 in case you wondered).\n",
    "\n",
    "### Matching on multiple filters of the same facet\n",
    "\n",
    "You might want to filter on object records that contain for example, both silver and lace. This can be done by repeating the filter parameter:\n"
   ]
  },
  {
   "cell_type": "code",
   "execution_count": 5,
   "metadata": {},
   "outputs": [
    {
     "name": "stdout",
     "output_type": "stream",
     "text": [
      "There are 9806 objects that contain silver ('AAT11029') and/or lace ('AAT132861')\n"
     ]
    }
   ],
   "source": [
    "import requests\n",
    "req = requests.get('https://api.vam.ac.uk/v2/objects/search?id_material=AAT11029&id_material=AAT132861')\n",
    "object_data = req.json()\n",
    "object_info = object_data[\"info\"]\n",
    "object_records = object_data[\"records\"]\n",
    "record_count = object_info[\"record_count\"]\n",
    "print(f\"There are {record_count} objects that contain silver ('AAT11029') and/or lace ('AAT132861')\")"
   ]
  },
  {
   "cell_type": "markdown",
   "metadata": {},
   "source": [
    "(filter:narrower)=\n",
    "### Narrow Matching \n",
    "#### (Multiple filters of the same facet)\n",
    "\n",
    "As you might notice from the above result, the object records returned will be those that say the object is made with silver and lace, but it will also include those that only say the object was made with lace (with no mention of silver) and likewise for those object made with silver (with no mention of lace)\n",
    "\n",
    "You might instead want to filter on object records that contain *only* both silver and lace. This is done as above, but you also need to set the search_mode\n",
    "parameter to \"narrow\" (otherwise known as boolean AND) instead of the default mode of \"broad\" (otherwise known as boolean OR)."
   ]
  },
  {
   "cell_type": "code",
   "execution_count": 6,
   "metadata": {},
   "outputs": [
    {
     "name": "stdout",
     "output_type": "stream",
     "text": [
      "There are 5 objects that contain silver ('AAT11029') and lace ('AAT132861')\n"
     ]
    }
   ],
   "source": [
    "import requests\n",
    "req = requests.get('https://api.vam.ac.uk/v2/objects/search?id_material=AAT11029&id_material=AAT132861&search_mode=narrow')\n",
    "object_data = req.json()\n",
    "object_info = object_data[\"info\"]\n",
    "object_records = object_data[\"records\"]\n",
    "record_count = object_info[\"record_count\"]\n",
    "print(f\"There are {record_count} objects that contain silver ('AAT11029') and lace ('AAT132861')\")"
   ]
  },
  {
   "cell_type": "markdown",
   "metadata": {},
   "source": [
    "Please note that this search mode setting then applies to all facets specified, if you are querying more than one. You cannot set only some facets search mode to broad/narrow."
   ]
  },
  {
   "cell_type": "markdown",
   "metadata": {},
   "source": [
    "### Negation\n",
    "\n",
    "You can also use filters to *exclude* any object records that would match the term(s) you have specified, by putting '-' before the identifier. So for example, if you want all object records that are not made of plastic:"
   ]
  },
  {
   "cell_type": "code",
   "execution_count": 5,
   "metadata": {},
   "outputs": [
    {
     "name": "stdout",
     "output_type": "stream",
     "text": [
      "There are 6753 objects that do not contain plastic ('AAT14570') and do contain glass ('AAT10797')\n"
     ]
    }
   ],
   "source": [
    "import requests\n",
    "req = requests.get('https://api.vam.ac.uk/v2/objects/search?id_material=-AAT14570&id_material=AAT10797')\n",
    "object_data = req.json()\n",
    "object_info = object_data[\"info\"]\n",
    "object_records = object_data[\"records\"]\n",
    "record_count = object_info[\"record_count\"]\n",
    "print(f\"There are {record_count} objects that do not contain plastic ('AAT14570') and do contain glass ('AAT10797')\")"
   ]
  },
  {
   "cell_type": "code",
   "execution_count": 6,
   "metadata": {},
   "outputs": [
    {
     "name": "stdout",
     "output_type": "stream",
     "text": [
      "There are 11857 objects that do contain plastic ('AAT14570') and do contain glass ('AAT10797')\n"
     ]
    }
   ],
   "source": [
    "import requests\n",
    "req = requests.get('https://api.vam.ac.uk/v2/objects/search?id_material=AAT14570&id_material=AAT10797')\n",
    "object_data = req.json()\n",
    "object_info = object_data[\"info\"]\n",
    "object_records = object_data[\"records\"]\n",
    "record_count = object_info[\"record_count\"]\n",
    "print(f\"There are {record_count} objects that do contain plastic ('AAT14570') and do contain glass ('AAT10797')\")"
   ]
  },
  {
   "cell_type": "markdown",
   "metadata": {},
   "source": [
    "```{note}\n",
    "Please note, use of negation automatically enables a narrow search mode (see {ref}`filter:narrower`), as we do not think there is a use case for both negation and broad searching. If you do have one, please let us know.\n",
    "``` "
   ]
  },
  {
   "cell_type": "markdown",
   "metadata": {},
   "source": [
    "## Filter Operations"
   ]
  },
  {
   "cell_type": "markdown",
   "metadata": {},
   "source": [
    "(filter:material)=\n",
    "### Filter by material\n",
    "\n",
    "As covered already in the first example above, this lets you find object records cataloging some material as part of the object.\n",
    "\n",
    "Identifiers in use come from the [Getty Art & Architecture Thesaurus](http://www.getty.edu/research/tools/vocabularies/aat/) (identifiers prefixed with AAT), and identifiers from the V&A (identifiers prefixed with THES)"
   ]
  },
  {
   "cell_type": "code",
   "execution_count": 18,
   "metadata": {},
   "outputs": [
    {
     "name": "stdout",
     "output_type": "stream",
     "text": [
      "There are 5639 objects that have been catalogued as using the material 'Glass' (AAT10797)\n"
     ]
    }
   ],
   "source": [
    "import requests\n",
    "req = requests.get('https://api.vam.ac.uk/v2/objects/search?id_material=AAT10797')\n",
    "object_data = req.json()\n",
    "object_info = object_data[\"info\"]\n",
    "object_records = object_data[\"records\"]\n",
    "record_count = object_info[\"record_count\"]\n",
    "print(f\"There are {record_count} objects that have been catalogued as using the material 'Glass' (AAT10797)\")"
   ]
  },
  {
   "cell_type": "markdown",
   "metadata": {},
   "source": [
    "(filter:technique)=\n",
    "### Filter by technique\n",
    "\n",
    "Very similiar to materials, this filter lets you find catalogued object records making use of a particular production technique."
   ]
  },
  {
   "cell_type": "code",
   "execution_count": 7,
   "metadata": {},
   "outputs": [
    {
     "name": "stdout",
     "output_type": "stream",
     "text": [
      "There are 32943 objects that use production technique etching (AAT300053241)\n"
     ]
    }
   ],
   "source": [
    "import requests\n",
    "req = requests.get('https://api.vam.ac.uk/v2/objects/search?id_technique=AAT53241')\n",
    "object_data = req.json()\n",
    "object_info = object_data[\"info\"]\n",
    "object_records = object_data[\"records\"]\n",
    "record_count = object_info[\"record_count\"]\n",
    "print(f\"There are {record_count} objects that use production technique 'etching' (AAT300053241)\")"
   ]
  },
  {
   "cell_type": "markdown",
   "metadata": {},
   "source": [
    "(filter:style)=\n",
    "### Filter by style\n",
    "\n",
    "This lets you filter object records by the artistic style of the object"
   ]
  },
  {
   "cell_type": "code",
   "execution_count": 8,
   "metadata": {},
   "outputs": [
    {
     "name": "stdout",
     "output_type": "stream",
     "text": [
      "There are 20 objects that use style vorticism (AAT300021515) as an artistic classification\n"
     ]
    }
   ],
   "source": [
    "import requests\n",
    "req = requests.get('https://api.vam.ac.uk/v2/objects/search?id_style=AAT21515')\n",
    "object_data = req.json()\n",
    "object_info = object_data[\"info\"]\n",
    "object_records = object_data[\"records\"]\n",
    "record_count = object_info[\"record_count\"]\n",
    "print(f\"There are {record_count} objects that use style 'vorticism' (AAT21515) as an artistic classification\")"
   ]
  },
  {
   "cell_type": "markdown",
   "metadata": {},
   "source": [
    "(filter:organisation)=\n",
    "### Filter by organisation\n",
    "\n",
    "This lets you filter object records by the organisation connected in some way to an object"
   ]
  },
  {
   "cell_type": "code",
   "execution_count": 12,
   "metadata": {},
   "outputs": [
    {
     "name": "stdout",
     "output_type": "stream",
     "text": [
      "There are 38 objects that were production by the Underground London Electric Railway Company organisation (AUTH339709)\n"
     ]
    }
   ],
   "source": [
    "import requests\n",
    "req = requests.get('https://api.vam.ac.uk/v2/objects/search?id_organisation=AUTH339709')\n",
    "object_data = req.json()\n",
    "object_info = object_data[\"info\"]\n",
    "object_records = object_data[\"records\"]\n",
    "record_count = object_info[\"record_count\"]\n",
    "print(f\"There are {record_count} objects that were production by the Underground London Electric Railway Company organisation (AUTH339709)\")"
   ]
  },
  {
   "cell_type": "markdown",
   "metadata": {},
   "source": [
    "(filter:person)=\n",
    "### Filter by person\n",
    "\n",
    "This letd you filter object records by the person connected in someway to an object"
   ]
  },
  {
   "cell_type": "code",
   "execution_count": 13,
   "metadata": {},
   "outputs": [
    {
     "name": "stdout",
     "output_type": "stream",
     "text": [
      "There are 12 objects that are connected to J.B. Yeats (AUTH339709)\n"
     ]
    }
   ],
   "source": [
    "import requests\n",
    "req = requests.get('https://api.vam.ac.uk/v2/objects/search?id_person=A6630')\n",
    "object_data = req.json()\n",
    "object_info = object_data[\"info\"]\n",
    "object_records = object_data[\"records\"]\n",
    "record_count = object_info[\"record_count\"]\n",
    "print(\"There are {record_count} objects that are connected in some way to J.B. Yeats (A6630)\")"
   ]
  },
  {
   "cell_type": "markdown",
   "metadata": {},
   "source": [
    "(filter:depiction)=\n",
    "### Filter by depiction\n",
    "\n",
    "This lets you filter object records by the person, place, or concept depicted in an object"
   ]
  },
  {
   "cell_type": "code",
   "execution_count": 20,
   "metadata": {},
   "outputs": [
    {
     "name": "stdout",
     "output_type": "stream",
     "text": [
      "There are 1 object(s) that depict J.B. Yeats (A6630)\n"
     ]
    }
   ],
   "source": [
    "import requests\n",
    "req = requests.get('https://api.vam.ac.uk/v2/objects/search?id_depicts=A6630')\n",
    "object_data = req.json()\n",
    "object_info = object_data[\"info\"]\n",
    "object_records = object_data[\"records\"]\n",
    "record_count = object_info[\"record_count\"]\n",
    "print(f\"There are {record_count} object(s) that depict J.B. Yeats (A6630)\")"
   ]
  },
  {
   "cell_type": "markdown",
   "metadata": {},
   "source": [
    "(filter:maker)=\n",
    "### Filter by maker\n",
    "\n",
    "This lets you filter object records by the maker of an object (this can be one of a person, a group of people, or an organisation) "
   ]
  },
  {
   "cell_type": "code",
   "execution_count": 14,
   "metadata": {},
   "outputs": [
    {
     "name": "stdout",
     "output_type": "stream",
     "text": [
      "There are 11 objects that are connected to J.B. Yeats (AUTH339709)\n"
     ]
    }
   ],
   "source": [
    "import requests\n",
    "req = requests.get('https://api.vam.ac.uk/v2/objects/search?id_maker=A6630')\n",
    "object_data = req.json()\n",
    "object_info = object_data[\"info\"]\n",
    "object_records = object_data[\"records\"]\n",
    "record_count = object_info[\"record_count\"]\n",
    "print(f\"There are {record_count} objects that are made by J.B. Yeats (A6630)\")"
   ]
  },
  {
   "cell_type": "markdown",
   "metadata": {},
   "source": [
    "(filter:place)=\n",
    "### Filter by place\n",
    "\n",
    "This lets you filter object records by a place where an object was made, depicts or is otherwise associated with."
   ]
  },
  {
   "cell_type": "code",
   "execution_count": 19,
   "metadata": {},
   "outputs": [
    {
     "name": "stdout",
     "output_type": "stream",
     "text": [
      "There are 7 objects that are associated with the place 'Redcar and Cleveland'\n"
     ]
    }
   ],
   "source": [
    "import requests\n",
    "req = requests.get('https://api.vam.ac.uk/v2/objects/search?id_place=x37151')\n",
    "object_data = req.json()\n",
    "object_info = object_data[\"info\"]\n",
    "object_records = object_data[\"records\"]\n",
    "record_count = object_info[\"record_count\"]\n",
    "print(f\"There are {record_count} objects that are from, depict or are associated with the place 'Redcar and Cleveland'\")"
   ]
  },
  {
   "cell_type": "markdown",
   "metadata": {},
   "source": [
    "(filter:category)=\n",
    "### Filter by category\n",
    "\n",
    "This lets you filter object records by a categorisation applied to an object."
   ]
  },
  {
   "cell_type": "code",
   "execution_count": 22,
   "metadata": {},
   "outputs": [
    {
     "name": "stdout",
     "output_type": "stream",
     "text": [
      "There are 2252 objects that are categorised as 'Gardens & Gardening'\n"
     ]
    }
   ],
   "source": [
    "import requests\n",
    "req = requests.get('https://api.vam.ac.uk/v2/objects/search?id_category=THES49002')\n",
    "object_data = req.json()\n",
    "object_info = object_data[\"info\"]\n",
    "object_records = object_data[\"records\"]\n",
    "record_count = object_info[\"record_count\"]\n",
    "print(f\"There are {record_count} objects that are categorised as 'Gardens & Gardening'\")"
   ]
  },
  {
   "cell_type": "markdown",
   "metadata": {},
   "source": [
    "(filter:collection)=\n",
    "### Filter by collection\n",
    "\n",
    "This lets you filter object records by the collecting department in the museum that manages an object."
   ]
  },
  {
   "cell_type": "code",
   "execution_count": 9,
   "metadata": {},
   "outputs": [
    {
     "name": "stdout",
     "output_type": "stream",
     "text": [
      "There are 791 objects that are part of the 'Digital, Architecture and Design' department\n"
     ]
    }
   ],
   "source": [
    "import requests\n",
    "req = requests.get('https://api.vam.ac.uk/v2/objects/search?id_collection=THES260586')\n",
    "object_data = req.json()\n",
    "object_info = object_data[\"info\"]\n",
    "object_records = object_data[\"records\"]\n",
    "record_count = object_info[\"record_count\"]\n",
    "print(f\"There are {record_count} objects that are part of the 'Digital, Architecture and Design' department\")"
   ]
  },
  {
   "cell_type": "markdown",
   "metadata": {},
   "source": [
    "(filter:association)=\n",
    "### Filter by association\n",
    "\n",
    "This lets you filter object records by a person, place, people, organisation associated with an object."
   ]
  },
  {
   "cell_type": "code",
   "execution_count": 27,
   "metadata": {},
   "outputs": [
    {
     "name": "stdout",
     "output_type": "stream",
     "text": [
      "There are 1 object(s) with which William Kent (A8575) is associated (but not neccessarily as the maker of the object and/or depicted in the object)\n"
     ]
    }
   ],
   "source": [
    "import requests\n",
    "req = requests.get('https://api.vam.ac.uk/v2/objects/search?id_associated=A8575')\n",
    "object_data = req.json()\n",
    "object_info = object_data[\"info\"]\n",
    "object_records = object_data[\"records\"]\n",
    "record_count = object_info[\"record_count\"]\n",
    "print(f\"There are {record_count} object(s) with which William Kent (A8575) is associated (but not neccessarily as the maker of the object and/or depicted in the object)\")"
   ]
  },
  {
   "cell_type": "markdown",
   "metadata": {},
   "source": [
    "## Advanced Topics\n",
    "\n",
    "### Boolean support within filtering\n",
    "\n",
    "You might be thinking another way to exactly specify multiple filters is to provide support for {ref}`boolean:top` operators within a filter parameter. For example using id_person=\"A6630|A6631\" to indicate you want object records mentioning either A6630 or A6631 or both of them. You might also think you could further extend this to even more complex filtering by using boolean operators in multiple parameters (id_person, id_material, etc); to specify the way you want filters to be combined (e.g. applying boolean AND between fields ('narrowing') and boolean OR within a repeating field ('broadening'), except for the materials field where boolean negation applies, except for material type silver which must be present on all matching object records. You would rightly think this would then provide you with a more granular way to control the search mode, per field instead of forcing them all to be \"broad\" or \"narrow\" combinations as the \"search_mode\" parameter does at present.\n",
    "\n",
    "You might think all this, but at present it is not supported.\n"
   ]
  },
  {
   "cell_type": "code",
   "execution_count": null,
   "metadata": {},
   "outputs": [],
   "source": []
  }
 ],
 "metadata": {
  "kernelspec": {
   "display_name": "Python 3",
   "language": "python",
   "name": "python3"
  },
  "language_info": {
   "codemirror_mode": {
    "name": "ipython",
    "version": 3
   },
   "file_extension": ".py",
   "mimetype": "text/x-python",
   "name": "python",
   "nbconvert_exporter": "python",
   "pygments_lexer": "ipython3",
   "version": "3.8.5"
  }
 },
 "nbformat": 4,
 "nbformat_minor": 4
}
