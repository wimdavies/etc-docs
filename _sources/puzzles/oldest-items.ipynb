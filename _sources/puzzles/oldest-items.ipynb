{
 "cells": [
  {
   "cell_type": "markdown",
   "metadata": {},
   "source": [
    "# Oldest Things\n",
    "\n",
    "Your first set of challenges. Can you find some of the oldest items in the catalogued collection ?"
   ]
  },
  {
   "cell_type": "markdown",
   "metadata": {},
   "source": [
    "## Oldest Sock\n",
    "\n",
    "Something humans have been using for a very long time. For tracking this\n",
    "item down you will need to ensure you are only looking for objects of type sock, and with a date range as far back as you dare to go.\n",
    "\n",
    "(A clue, this comes from the time when a socks and sandal combination did not raise any fashion eyebrows)"
   ]
  },
  {
   "cell_type": "markdown",
   "metadata": {},
   "source": [
    "## Oldest Oil Painting from England\n",
    "\n",
    "We are being very strict in our definition of painting here, because paintings\n",
    "exist in many different forms, techniques and materials. So we are only interested in the\n",
    "earliest \"oil painting\" object type in the catalogued collection. An extra clue, it's from London"
   ]
  },
  {
   "cell_type": "markdown",
   "metadata": {},
   "source": [
    "## Oldest Doll's House made in France\n",
    "\n"
   ]
  },
  {
   "cell_type": "markdown",
   "metadata": {},
   "source": [
    "## Oldest Vase made from Glass & ???\n",
    "\n"
   ]
  },
  {
   "cell_type": "markdown",
   "metadata": {},
   "source": [
    "## Oldest Wedding Dress with depicitions of flowers"
   ]
  },
  {
   "cell_type": "markdown",
   "metadata": {},
   "source": [
    "## Oldest Chair made in Yorkshire from "
   ]
  }
 ],
 "metadata": {
  "kernelspec": {
   "display_name": "Python 3",
   "language": "python",
   "name": "python3"
  },
  "language_info": {
   "codemirror_mode": {
    "name": "ipython",
    "version": 3
   },
   "file_extension": ".py",
   "mimetype": "text/x-python",
   "name": "python",
   "nbconvert_exporter": "python",
   "pygments_lexer": "ipython3",
   "version": "3.8.5"
  }
 },
 "nbformat": 4,
 "nbformat_minor": 4
}
