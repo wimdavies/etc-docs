{
 "cells": [
  {
   "cell_type": "markdown",
   "metadata": {},
   "source": [
    "(miscallaneous:top)=\n",
    "\n",
    "# Miscellaneous "
   ]
  },
  {
   "cell_type": "markdown",
   "metadata": {},
   "source": [
    "## Random (random)\n",
    "\n",
    "Fairly simply, this returns a random ordering of objects. There is not much point using this with most {ref}`searching:top` or {ref}`filtering:top` operations as they are the implacable enemy of the random."
   ]
  },
  {
   "cell_type": "code",
   "execution_count": 1,
   "metadata": {},
   "outputs": [
    {
     "name": "stdout",
     "output_type": "stream",
     "text": [
      "There are 1237096 objects records and the first object id at random is O350188\n"
     ]
    }
   ],
   "source": [
    "import requests\n",
    "req = requests.get('https://api.vam.ac.uk/v2/objects/search?random=1')\n",
    "object_data = req.json()\n",
    "object_info = object_data[\"info\"]\n",
    "object_records = object_data[\"records\"]\n",
    "print(\"There are %d objects records and the first object id at random is %s\" % (object_info[\"record_count\"], object_records[0]['systemNumber']))"
   ]
  },
  {
   "cell_type": "markdown",
   "metadata": {},
   "source": [
    "## Search Mode (search_mode)\n",
    "\n",
    "As discussed in {ref}`filter:narrower`, this controls whether multiple filters of the same type have to all be successfully matched or not. By default only one of them needs to match an object record for it to be returned ('broad'). A 'narrow' search mode can be enforced so then an object record has to match on all of the filters specified."
   ]
  },
  {
   "cell_type": "code",
   "execution_count": null,
   "metadata": {},
   "outputs": [],
   "source": [
    "import requests\n",
    "req = requests.get('https://api.vam.ac.uk/v2/objects/search?id_material=AAT11029&id_material=AAT132861&search_mode=narrow')\n",
    "object_data = req.json()\n",
    "object_info = object_data[\"info\"]\n",
    "object_records = object_data[\"records\"]\n",
    "record_count = object_info[\"record_count\"]\n",
    "print(f\"There are {record_count} objects that contain silver ('AAT11029') and lace ('AAT132861')\")"
   ]
  },
  {
   "cell_type": "markdown",
   "metadata": {},
   "source": [
    "## Search Profile (search_profile)\n",
    "\n",
    "This controls the search type, and is used for the V&A website to enable various website features."
   ]
  }
 ],
 "metadata": {
  "kernelspec": {
   "display_name": "Python 3",
   "language": "python",
   "name": "python3"
  },
  "language_info": {
   "codemirror_mode": {
    "name": "ipython",
    "version": 3
   },
   "file_extension": ".py",
   "mimetype": "text/x-python",
   "name": "python",
   "nbconvert_exporter": "python",
   "pygments_lexer": "ipython3",
   "version": "3.8.5"
  }
 },
 "nbformat": 4,
 "nbformat_minor": 4
}
