{
 "cells": [
  {
   "cell_type": "markdown",
   "metadata": {},
   "source": [
    "(images:top)=\n",
    "# Images"
   ]
  },
  {
   "cell_type": "markdown",
   "metadata": {},
   "source": [
    "When object images are available (studio quality photography of fragile objects is a complex process, so not all objects will have images yet), the results from a query will provide you with the reelvant image identifiers and/or URLs referring to an object image(s). The benefit of providing the identifiers rather than a fixed URL is that you can than construct your own URL, following the [IIIF Image API](https://iiif.io/) standard, allowing you to make custom image requests (for particular sizes, rotation, format, etc) depending on your usage.\n",
    "\n",
    "For convenience, we provide in search results a URL pointing directly to an image of a fixed size (a thumbnail image), but you can also use this URL as a starting point for a request for another image size.\n",
    "\n",
    "Working through an example object, by requesting an image of the [Great Bed of Ware](https://collections.vam.ac.uk/item/O9138/)"
   ]
  },
  {
   "cell_type": "code",
   "execution_count": null,
   "metadata": {},
   "outputs": [],
   "source": [
    "import requests\n",
    "import json\n",
    "\n",
    "req = requests.get(\"https://api.vam.ac.uk/v2/objects/search?q=Bed Ware&page_size=50\")\n",
    "response = req.json()\n",
    "print(json.dumps(response['records'][0], indent=2))"
   ]
  },
  {
   "cell_type": "markdown",
   "metadata": {},
   "source": [
    "The '\\_primaryImageId' field provides the identifer you need to construct the IIIF URL. The images field in the response contains three fields:\n",
    "\n",
    "  * _primary_thumbnail provides a direct link to a thumbnail (upto 100 pixels on the longest side) of the primary image for this object\n",
    "  * _iiif_image_base_url provides the base path for a IIIF Image API request\n",
    "  * _iiif_presentation_url provides a direct link to the IIIF Presentation API manifest\n",
    "    \n",
    "The thumbnail URL returns a JPEG image that will never be larger than 100 pixels width and height. The exact dimensions will vary depending on the original physical objects' dimensions (for example, a scroll read horizontally will likely be returned as 100 pixels in width and less than 100 pixels in height, a square painting will likely be 100 pixels in both width and height)\n",
    "\n",
    "The other URLs can be used as documented in {ref}`images-iiif:top` "
   ]
  },
  {
   "cell_type": "markdown",
   "metadata": {},
   "source": [
    "## Image sizes\n",
    "\n",
    "Object images are made available at upto two different sizes:\n",
    "    \n",
    "    * 768 pixels on the longest length\n",
    "    * 2500 pixels on the longest length\n",
    "\n",
    "depending on the object. You can find the size by querying the info.json - for example https://framemark.vam.ac.uk/collections/2008BT1996/info.json - see {ref}`images-iiif:image-api`"
   ]
  },
  {
   "cell_type": "markdown",
   "metadata": {},
   "source": [
    "## Image usage\n",
    "\n",
    "V&A images are made available under the terms and conditions as set out [here](https://www.vam.ac.uk/info/va-websites-terms-conditions) in particular section 9."
   ]
  }
 ],
 "metadata": {
  "kernelspec": {
   "display_name": "Python 3",
   "language": "python",
   "name": "python3"
  },
  "language_info": {
   "codemirror_mode": {
    "name": "ipython",
    "version": 3
   },
   "file_extension": ".py",
   "mimetype": "text/x-python",
   "name": "python",
   "nbconvert_exporter": "python",
   "pygments_lexer": "ipython3",
   "version": "3.8.5"
  }
 },
 "nbformat": 4,
 "nbformat_minor": 4
}
