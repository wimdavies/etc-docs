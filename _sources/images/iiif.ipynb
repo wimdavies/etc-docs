{
 "cells": [
  {
   "cell_type": "markdown",
   "metadata": {},
   "source": [
    "(images-iiif:top)=\n",
    "# IIIF\n",
    "\n",
    " The [International Image Interoperability Framework](https://iiif.io/) standardises the retrieval of images ([Image API](https://iiif.io/api/image/)) allowing for common image operations such as the generation of derivative/scaled images, rotation of images, tiling of images, etc; and the presentation of images ([Presentation API](https://iiif.io/api/presentation/)) which allows for interoperable viewing experiences to be easily built such as page turning, slideshows, stacked images, etc.\n",
    " \n",
    "To make use of both APIs, you will need the identifier for the image (for the Image API) or the object (for the Presentation API). You can find these by using  {ref}`filtering:top` or {ref}`searching:top` to search for objects, in the responses you will see the systemNumber (for object identifiers) and image asset identifiers. There are also some IIIF links in the responses to provide a base URL from which to build your request.\n",
    "\n",
    "Once you have the identifier, you can place them into the following URL templates:"
   ]
  },
  {
   "cell_type": "markdown",
   "metadata": {},
   "source": [
    "## IIIF URL Templates\n",
    "\n",
    "### Images\n",
    "\n",
    "Replace {imageidentifier} in the following URLs with the image identifier you have found from a query\n",
    "\n",
    " * Image Metadata -  https://framemark.vam.ac.uk/collections/{imageidentifier}/info.json\n",
    " \n",
    "For example:\n",
    "\n",
    " * https://framemark.vam.ac.uk/collections/2006AN7529/info.json\n",
    " \n",
    "### Objects\n",
    "\n",
    "Replace {objectidentifier} in the following URLs with the system number of the object you have found from a query:\n",
    "\n",
    " * Object Manifest - https://iiif.vam.ac.uk/collections/{objectidentifier}/manifest.json\n",
    " \n",
    "For example:\n",
    "\n",
    " * https://iiif.vam.ac.uk/collections/O9138/manifest.json\n",
    "  "
   ]
  },
  {
   "cell_type": "markdown",
   "metadata": {},
   "source": [
    "(images-iiif:image-api)=\n",
    "\n",
    "## IIIF Image API\n",
    "\n",
    "The [Image API](https://iiif.io/api/image/2.1/) allows you make requests with the following parameters:\n",
    "\n",
    "  https://framemark.vam.ac.uk/collections/{imageidentifier}/{region}/{size}/{rotation}/{quality}.{format}\n",
    "  * Region - Specify the area of the image\n",
    "  * Size - Specify the size of the image returned\n",
    "  * Rotation - Specify the degrees the image is rotated by\n",
    "  * Quality - Specify the quality of image (default, grey, bitonal)\n",
    "  * Format - Currently only JPEG format is supported\n",
    "  \n",
    "### Common Image API Requests\n",
    "\n",
    "#### Request an image at full size\n",
    "\n",
    "  https://framemark.vam.ac.uk/collections/{imageidentifier}/full/full/0/default.jpg\n",
    "  \n",
    "For example:\n",
    "\n",
    "  https://framemark.vam.ac.uk/collections/2006AN7529/full/full/0/default.jpg ([Graphic Permutations](https://collections.vam.ac.uk/item/O19135/graphic-permutations-four-cubes-barton-glenys/))\n",
    "  \n",
    "#### Request an image fixed at 600 by 400\n",
    "\n",
    "   https://framemark.vam.ac.uk/collections/{imageidentifier}/full/600,400/0/default.jpg\n",
    "\n",
    "#### Request a 100 by 100 (retaining aspect ratio) thumbnail\n",
    "\n",
    "  https://framemark.vam.ac.uk/collections/{imageidentifier}/full/!100,100/0/default.jpg\n",
    "  \n",
    "For example:\n",
    "\n",
    "  https://framemark.vam.ac.uk/collections/2016JL5779/full/!100,100/0/default.jpg ([Oberwesel on the Rhine](https://collections.vam.ac.uk/item/O1291151/oberwesel-on-the-rhine-watercolour-edward-richardson/)\n",
    "  \n",
    "#### Request a greyscale version\n",
    "\n",
    "  https://framemark.vam.ac.uk/collections/{imageidentifier}/full/full/0/grey.jpg (gray is also accepted)\n",
    "  \n",
    "For example:\n",
    "\n",
    "  * https://framemark.vam.ac.uk/collections/2017JT9505/full/full/0/grey.jpg ([Copy of stained glass in Belhus, Aveley](https://collections.vam.ac.uk/item/O764518/copy-of-stained-glass-in-record-drawing-of-eden-f-sydney/)\n",
    "  \n",
    "#### Request a image rotated by 180 degrees\n",
    "\n",
    "  https://framemark.vam.ac.uk/collections/{imageidentifier}/full/full/180/default.jpg\n",
    " "
   ]
  },
  {
   "cell_type": "markdown",
   "metadata": {},
   "source": [
    "(images-iiif:presentation-api)=\n",
    "\n",
    "## IIIF Presentation API"
   ]
  },
  {
   "cell_type": "markdown",
   "metadata": {},
   "source": [
    "\n",
    "The [Presentation API](https://iiif.io/api/presentation/2.1/) allows for the retrieval of a manifest providing 'the information necessary to allow a rich, online viewing environment for compound digital objects to be presented to a human user, often in conjunction with the IIIF Image API.'\n",
    "\n",
    "Once you have an object identifier (systemNumber) you can retrieve the manifest for that object and view it in any viewer that supports IIIF Presentation API. See the [explainer](https://iiif.io/explainers/using_iiif_resources/) from the IIIF Consortium for more details on what you can do with a manifest once you have one.\n",
    "\n",
    "For example to view The Great Bed of Ware using [Universal Viewer](https://universalviewer.io)\n",
    "\n",
    "  * https://iiif.vam.ac.uk/viewers/uv/3/uv.html#?manifest=https://iiif.vam.ac.uk/collections/O9138/manifest.json\n",
    "\n",
    "\n",
    "You can see more viewers available [here](https://iiif.vam.ac.uk/tools/index.html) and at the [Awesome IIIF](https://github.com/IIIF/awesome-iiif) list"
   ]
  },
  {
   "cell_type": "markdown",
   "metadata": {},
   "source": [
    "```{note}\n",
    "Some other identifer types exist that are used to access an object record, for example to access Codex Forster I (a notebook of Leonardo de Vinci)\n",
    "\n",
    "  * https://iiif.vam.ac.uk/viewers/uv/3/uv.html#?manifest=https://iiif.vam.ac.uk/collections/MSL:1876:Forster:141:I/manifest.json\n",
    "        \n",
    "```"
   ]
  },
  {
   "cell_type": "code",
   "execution_count": null,
   "metadata": {},
   "outputs": [],
   "source": []
  }
 ],
 "metadata": {
  "kernelspec": {
   "display_name": "Python 3",
   "language": "python",
   "name": "python3"
  },
  "language_info": {
   "codemirror_mode": {
    "name": "ipython",
    "version": 3
   },
   "file_extension": ".py",
   "mimetype": "text/x-python",
   "name": "python",
   "nbconvert_exporter": "python",
   "pygments_lexer": "ipython3",
   "version": "3.8.5"
  }
 },
 "nbformat": 4,
 "nbformat_minor": 4
}
