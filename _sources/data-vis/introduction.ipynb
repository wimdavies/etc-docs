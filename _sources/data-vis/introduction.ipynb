{
 "cells": [
  {
   "cell_type": "markdown",
   "metadata": {},
   "source": [
    "(datavis:top)=\n",
    "\n",
    "# Visualisations"
   ]
  },
  {
   "cell_type": "markdown",
   "metadata": {},
   "source": [
    "## Information Visualisation\n",
    "\n",
    "The different endpoints offered by the API will return different \"shapes\" of data depending on what you have requested:\n",
    "\n",
    "  * A single data point - e.g. returning a single object record \n",
    "  * A small set of data points - e.g. returning a set of object records from a search\n",
    "  * A large set of data points - e.g. returning all objects records from the collection\n",
    "\n",
    "(N.B. As each object record can contain dozens of fields, each of those fields can itself be considered a data point, and clustering of that field across a set of records would then be a set of data points))\n",
    "\n",
    "### Single Records\n",
    "\n",
    "A single object record will need to be examined individually, either by looking at the human readable object page on our [collections site](https://collections.vam.ac.uk), or by processing in some way the full object record. There may be more useful ways to display this single object record within an environment such as Jupyter in some summary form, but to display the complete object record would effectively require recreating the existing object pages.\n",
    "\n",
    "### Small Sets of Object Records\n",
    "\n",
    "A set of records returned from a response to a {ref}`searching:top` or {ref}`filtering:top` can be shown in a variety of graphical visualisations, using a library such as [Altair](https://altair-viz.github.io/). The type of graph used will depend on the data you are looking to show and what you would like to discover in the results. See some examples in {ref}`quickstart:top` and in our [Data Explorations](https://developers.vam.ac.uk/notebooks/data-explorations/)\n",
    "\n",
    "### Large Sets of Object Records\n",
    "\n",
    "A larger number of records may be too difficult to show in a meaningful way in a single visualisation, so more abstracted visualisations may be used. In this case {ref}`clustering:top` endpoints may be more useful to return summary statistics for a query (e.g. counts of different types of materials in use in objects matching on a query). This allows high-level exploration of a large number of records, which can then provide an indication of a smaller subset that might be useful to examine using other visualisation techniques.\n"
   ]
  },
  {
   "cell_type": "markdown",
   "metadata": {},
   "source": [
    "## Iconographic Visualisation\n",
    "\n",
    "Images in responses can be usefully visualised at scale within Jupyter notebooks using [Ivpy](https://github.com/damoncrockett/ivpy), which allows for the display and analysis of image sets using different layouts. See some [worked examples](https://developers.vam.ac.uk/notebooks/) of it in use with our API. "
   ]
  }
 ],
 "metadata": {
  "kernelspec": {
   "display_name": "Python 3",
   "language": "python",
   "name": "python3"
  },
  "language_info": {
   "codemirror_mode": {
    "name": "ipython",
    "version": 3
   },
   "file_extension": ".py",
   "mimetype": "text/x-python",
   "name": "python",
   "nbconvert_exporter": "python",
   "pygments_lexer": "ipython3",
   "version": "3.8.5"
  }
 },
 "nbformat": 4,
 "nbformat_minor": 4
}
